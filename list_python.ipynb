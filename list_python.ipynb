{
  "nbformat": 4,
  "nbformat_minor": 0,
  "metadata": {
    "colab": {
      "provenance": []
    },
    "kernelspec": {
      "name": "python3",
      "display_name": "Python 3"
    },
    "language_info": {
      "name": "python"
    }
  },
  "cells": [
    {
      "cell_type": "code",
      "execution_count": null,
      "metadata": {
        "id": "jjDyGV0jc6KX"
      },
      "outputs": [],
      "source": []
    },
    {
      "cell_type": "markdown",
      "source": [
        "# List\n",
        "\n",
        "\n",
        "*   List is commonly used in data type.it is mutable.\n",
        "*   It is used for collecting purpose.\n",
        "\n",
        "*   It is defined using square brackets [] and elements are seperated by commons.\n",
        "\n",
        "\n",
        "\n"
      ],
      "metadata": {
        "id": "kr729ZUrdAjd"
      }
    },
    {
      "cell_type": "code",
      "source": [
        "numbers=[\"1\",\"2\",\"3\",\"4\",\"5\"]\n",
        "print( type(numbers))"
      ],
      "metadata": {
        "colab": {
          "base_uri": "https://localhost:8080/"
        },
        "id": "FgZhv1hyesH4",
        "outputId": "c5611b05-d030-4a92-c0d7-b2669116586d"
      },
      "execution_count": 12,
      "outputs": [
        {
          "output_type": "stream",
          "name": "stdout",
          "text": [
            "<class 'list'>\n"
          ]
        }
      ]
    },
    {
      "cell_type": "code",
      "source": [
        "My_list= []\n",
        "Names = [\"Apple\",\"cherry\",\"grapes\"]\n",
        "print (type(Names))"
      ],
      "metadata": {
        "colab": {
          "base_uri": "https://localhost:8080/"
        },
        "id": "fYe79MxCgJga",
        "outputId": "79e1d1ba-d8dc-4d81-f08d-3c37d2f7bc20"
      },
      "execution_count": 11,
      "outputs": [
        {
          "output_type": "stream",
          "name": "stdout",
          "text": [
            "<class 'list'>\n"
          ]
        }
      ]
    },
    {
      "cell_type": "code",
      "source": [
        "boolean =[\"true\",\"flase\",\"true\",\"flase\"]\n",
        "print(type(boolean))"
      ],
      "metadata": {
        "id": "VKg5DGqYj-ik",
        "outputId": "089d8178-dd35-43af-c376-c31ba176c0a6",
        "colab": {
          "base_uri": "https://localhost:8080/"
        }
      },
      "execution_count": 15,
      "outputs": [
        {
          "output_type": "stream",
          "name": "stdout",
          "text": [
            "<class 'list'>\n"
          ]
        }
      ]
    },
    {
      "cell_type": "code",
      "source": [
        "complex_number=[\"3+5j\",\"3+5j\",\"2+6j\"]\n",
        "print(type(complex_number))"
      ],
      "metadata": {
        "id": "Z3QedLxIkY96",
        "outputId": "76835af7-d45a-4563-9f3b-b78c8fa740f4",
        "colab": {
          "base_uri": "https://localhost:8080/"
        }
      },
      "execution_count": 23,
      "outputs": [
        {
          "output_type": "stream",
          "name": "stdout",
          "text": [
            "<class 'list'>\n"
          ]
        }
      ]
    },
    {
      "cell_type": "code",
      "source": [
        "mixed_type=[\"1\",\"23.7\",\"true\",\"3=5j\"]\n",
        "print(type(mixed_type))"
      ],
      "metadata": {
        "id": "6H4vxP0tk2FB",
        "outputId": "fc87cd18-d208-4453-d5e6-0d33b053a670",
        "colab": {
          "base_uri": "https://localhost:8080/"
        }
      },
      "execution_count": 1,
      "outputs": [
        {
          "output_type": "stream",
          "name": "stdout",
          "text": [
            "<class 'list'>\n"
          ]
        }
      ]
    },
    {
      "cell_type": "code",
      "source": [
        "decimal=[\"23.4\",\"34.7\"]\n",
        "print(type(decimal))"
      ],
      "metadata": {
        "id": "EY99M_OjnGXS",
        "outputId": "901c0337-a78a-411b-a1cc-7cc405e696a5",
        "colab": {
          "base_uri": "https://localhost:8080/"
        }
      },
      "execution_count": 26,
      "outputs": [
        {
          "output_type": "stream",
          "name": "stdout",
          "text": [
            "<class 'list'>\n"
          ]
        }
      ]
    },
    {
      "cell_type": "code",
      "source": [
        "mixed_number=[\"2\",\"5\",\"7\"]\n",
        "print(type(mixed_number))"
      ],
      "metadata": {
        "id": "Ipn3ub0In2qh",
        "outputId": "69c74831-2882-4c36-db7e-98f4fd1a32b4",
        "colab": {
          "base_uri": "https://localhost:8080/"
        }
      },
      "execution_count": 2,
      "outputs": [
        {
          "output_type": "stream",
          "name": "stdout",
          "text": [
            "<class 'list'>\n"
          ]
        }
      ]
    },
    {
      "cell_type": "code",
      "source": [
        "mixed_decimal=[\"23.5\",\"3.0\",\"6\"]\n",
        "print(type(mixed_decimal))"
      ],
      "metadata": {
        "id": "oI2ZfzQ3oFsk",
        "outputId": "f90fec65-e983-48d5-c16c-c819fd6cda23",
        "colab": {
          "base_uri": "https://localhost:8080/"
        }
      },
      "execution_count": 3,
      "outputs": [
        {
          "output_type": "stream",
          "name": "stdout",
          "text": [
            "<class 'list'>\n"
          ]
        }
      ]
    },
    {
      "cell_type": "code",
      "source": [
        "mixed_number=[\"8\",\"89.0\",\"manisha\"]\n",
        "print(type(mixed_number))"
      ],
      "metadata": {
        "id": "7IJCSvuzoY7f",
        "outputId": "1838b909-c396-42c9-9094-5bbe7790296e",
        "colab": {
          "base_uri": "https://localhost:8080/"
        }
      },
      "execution_count": 4,
      "outputs": [
        {
          "output_type": "stream",
          "name": "stdout",
          "text": [
            "<class 'list'>\n"
          ]
        }
      ]
    },
    {
      "cell_type": "markdown",
      "source": [
        "# Access list Element\n",
        "\n",
        "*   There are classified into two types.Those are:\n",
        "\n",
        "\n",
        "1.   Positive index - it start from 0,1 to infinity.\n",
        "2.   Negative index - it start from -1 ,-2 to - infinity.\n",
        "\n",
        "\n",
        "\n",
        "\n"
      ],
      "metadata": {
        "id": "9LrBfLF9ptd9"
      }
    },
    {
      "cell_type": "code",
      "source": [
        "my_list=[\"apple\",\"grapes\",\"banana\",\"1\",\"2\",\"4\",\"5\",\"45.6\",\"12.7\",\"true\",\"flase\",\"3+5j\",\"8+7k\"]\n",
        "print(my_list[0:5])\n",
        "print(my_list[:8])\n",
        "print(my_list[5:10])\n",
        "print(my_list[11:12])\n",
        "print(my_list[1:])\n",
        "print(my_list[3:12])\n",
        "print(my_list[6:12])\n",
        "print(my_list[0:8])\n",
        "print(my_list[1:3])"
      ],
      "metadata": {
        "id": "RDrIQ88grFHr",
        "outputId": "1ae1dc69-a1cd-4c12-a04b-8a5badaff896",
        "colab": {
          "base_uri": "https://localhost:8080/"
        }
      },
      "execution_count": 10,
      "outputs": [
        {
          "output_type": "stream",
          "name": "stdout",
          "text": [
            "['apple', 'grapes', 'banana', '1', '2']\n",
            "['apple', 'grapes', 'banana', '1', '2', '4', '5', '45.6']\n",
            "['4', '5', '45.6', '12.7', 'true']\n",
            "['3+5j']\n",
            "['grapes', 'banana', '1', '2', '4', '5', '45.6', '12.7', 'true', 'flase', '3+5j', '8+7k']\n",
            "['1', '2', '4', '5', '45.6', '12.7', 'true', 'flase', '3+5j']\n",
            "['5', '45.6', '12.7', 'true', 'flase', '3+5j']\n",
            "['apple', 'grapes', 'banana', '1', '2', '4', '5', '45.6']\n",
            "['grapes', 'banana']\n"
          ]
        }
      ]
    },
    {
      "cell_type": "code",
      "source": [
        "my_list=[\"python\",\"java\",\"c++\",\"c\",\"php\",\"cherry\",\"manasa\",\"3\",\"2\"]\n",
        "print(my_list[-1])\n",
        "print(my_list[-5])\n",
        "print(my_list[-3])\n",
        "print(my_list[-6])\n",
        "print(my_list[-9])\n",
        "print(my_list[-2])\n",
        "print(my_list[3])\n",
        "print(my_list[-4])\n",
        "print(my_list[-1:-3])\n",
        "print(my_list[-2:7])"
      ],
      "metadata": {
        "id": "pF8s95sxvjsy",
        "outputId": "64c8511c-c368-4b89-cf53-d2e48cf6f572",
        "colab": {
          "base_uri": "https://localhost:8080/"
        }
      },
      "execution_count": 20,
      "outputs": [
        {
          "output_type": "stream",
          "name": "stdout",
          "text": [
            "2\n",
            "php\n",
            "manasa\n",
            "c\n",
            "python\n",
            "3\n",
            "c\n",
            "cherry\n",
            "[]\n",
            "[]\n"
          ]
        }
      ]
    },
    {
      "cell_type": "markdown",
      "source": [
        "# Slicing of lists"
      ],
      "metadata": {
        "id": "Pxh2EqRvxwQw"
      }
    },
    {
      "cell_type": "code",
      "source": [
        "a=[\"1\",\"2\",\"3\",\"4\",\"5\",\"6\",\"7\",\"8\",\"9\",\"0\",\"manu\",\"cherry\",\"mirzu\"]\n",
        "print(a[0:6])\n",
        "print(a[:10])\n",
        "print(a[5:10])\n",
        "print(a[2:])\n",
        "print(a[0:6])\n",
        "print(a[2:3])\n",
        "print(a[1:5])\n",
        "print(a[4:7])\n",
        "print(a[3:8])\n",
        "print(a[10:13])"
      ],
      "metadata": {
        "id": "qsbGeeT1x3i4",
        "outputId": "32aa8361-cace-4b0b-b2de-75aeb16357d2",
        "colab": {
          "base_uri": "https://localhost:8080/"
        }
      },
      "execution_count": 26,
      "outputs": [
        {
          "output_type": "stream",
          "name": "stdout",
          "text": [
            "['1', '2', '3', '4', '5', '6']\n",
            "['1', '2', '3', '4', '5', '6', '7', '8', '9', '0']\n",
            "['6', '7', '8', '9', '0']\n",
            "['3', '4', '5', '6', '7', '8', '9', '0', 'manu', 'cherry', 'mirzu']\n",
            "['1', '2', '3', '4', '5', '6']\n",
            "['3']\n",
            "['2', '3', '4', '5']\n",
            "['5', '6', '7']\n",
            "['4', '5', '6', '7', '8']\n",
            "['manu', 'cherry', 'mirzu']\n"
          ]
        }
      ]
    },
    {
      "cell_type": "markdown",
      "source": [
        "# List operation\n",
        "\n",
        "*   List operation are two types.those are:\n",
        "\n",
        "\n",
        "1.   concalention\n",
        "2.   repetition\n",
        "\n",
        "\n",
        "\n"
      ],
      "metadata": {
        "id": "deSd9_HIzrCV"
      }
    },
    {
      "cell_type": "code",
      "source": [
        "A=['1', '2', '3', '4', '5', '6'\n",
        "'1', '2', '3', '4', '5', '6', '7', '8', '9', '0'\n",
        "'6', '7', '8', '9', '0'\n",
        "'3', '4', '5', '6', '7', '8', '9', '0', 'manu', 'cherry', 'mirzu']\n",
        "B=['1', '2', '3', '4', '5', '6'\n",
        "'3'\n",
        "'2', '3', '4', '5']\n",
        "print(A+B)"
      ],
      "metadata": {
        "id": "2jnVg52f0T0-",
        "outputId": "f078b3a0-8f72-4cb7-d15c-e6a5080df567",
        "colab": {
          "base_uri": "https://localhost:8080/"
        }
      },
      "execution_count": 31,
      "outputs": [
        {
          "output_type": "stream",
          "name": "stdout",
          "text": [
            "['1', '2', '3', '4', '5', '61', '2', '3', '4', '5', '6', '7', '8', '9', '06', '7', '8', '9', '03', '4', '5', '6', '7', '8', '9', '0', 'manu', 'cherry', 'mirzu', '1', '2', '3', '4', '5', '632', '3', '4', '5']\n"
          ]
        }
      ]
    },
    {
      "cell_type": "code",
      "source": [
        "A=[1,3,4]\n",
        "b=[2,3,4]\n",
        "c=A+b\n",
        "print(c)"
      ],
      "metadata": {
        "id": "EpgOrhoS1ndY",
        "outputId": "6fdfb111-425e-4bb4-8a43-12646b96d171",
        "colab": {
          "base_uri": "https://localhost:8080/"
        }
      },
      "execution_count": 32,
      "outputs": [
        {
          "output_type": "stream",
          "name": "stdout",
          "text": [
            "[1, 3, 4, 2, 3, 4]\n"
          ]
        }
      ]
    },
    {
      "cell_type": "code",
      "source": [
        "z=[100,500,1000]\n",
        "v=[1,2,9]\n",
        "print(z+v)"
      ],
      "metadata": {
        "id": "GG-jDDGK10nP",
        "outputId": "d82a6eb2-6b2f-4d70-beab-951f40cfdccc",
        "colab": {
          "base_uri": "https://localhost:8080/"
        }
      },
      "execution_count": 36,
      "outputs": [
        {
          "output_type": "stream",
          "name": "stdout",
          "text": [
            "[100, 500, 1000, 1, 2, 9]\n"
          ]
        }
      ]
    },
    {
      "cell_type": "code",
      "source": [
        "A=['1', '2']\n",
        "B=['1', '2', '3', '4', '5', '6']\n",
        "print(A+B)"
      ],
      "metadata": {
        "id": "Q-tZ4CQQ2Yrg",
        "outputId": "24eb1229-4044-4f73-e3ac-aefedf318713",
        "colab": {
          "base_uri": "https://localhost:8080/"
        }
      },
      "execution_count": 40,
      "outputs": [
        {
          "output_type": "stream",
          "name": "stdout",
          "text": [
            "['1', '2', '1', '2', '3', '4', '5', '6']\n"
          ]
        }
      ]
    },
    {
      "cell_type": "code",
      "source": [
        "a=[1,2.3]\n",
        "b=[\"hello world\"]\n",
        "print(a+b)"
      ],
      "metadata": {
        "id": "Yjfo2PyA3sXm",
        "outputId": "e0b84fc2-737e-448a-f9d0-ce6d6e60baa8",
        "colab": {
          "base_uri": "https://localhost:8080/"
        }
      },
      "execution_count": 45,
      "outputs": [
        {
          "output_type": "stream",
          "name": "stdout",
          "text": [
            "[1, 2.3, 'hello world']\n"
          ]
        }
      ]
    },
    {
      "cell_type": "code",
      "source": [
        "a=[4,5,6,7]\n",
        "b=a*7\n",
        "print(b)"
      ],
      "metadata": {
        "id": "Rx7zWfB73IBY",
        "outputId": "c22d2881-5060-442c-e282-fbf1db99bc38",
        "colab": {
          "base_uri": "https://localhost:8080/"
        }
      },
      "execution_count": 41,
      "outputs": [
        {
          "output_type": "stream",
          "name": "stdout",
          "text": [
            "[4, 5, 6, 7, 4, 5, 6, 7, 4, 5, 6, 7, 4, 5, 6, 7, 4, 5, 6, 7, 4, 5, 6, 7, 4, 5, 6, 7]\n"
          ]
        }
      ]
    },
    {
      "cell_type": "code",
      "source": [
        "a=[\"hellow world\"]\n",
        "b=a*6\n",
        "print(b)"
      ],
      "metadata": {
        "id": "gnETeyaX3UG6",
        "outputId": "ef4d5fe2-43dd-4bdd-d748-495b8e71208f",
        "colab": {
          "base_uri": "https://localhost:8080/"
        }
      },
      "execution_count": 42,
      "outputs": [
        {
          "output_type": "stream",
          "name": "stdout",
          "text": [
            "['hellow world', 'hellow world', 'hellow world', 'hellow world', 'hellow world', 'hellow world']\n"
          ]
        }
      ]
    },
    {
      "cell_type": "code",
      "source": [
        "v=[\"welcome to hyderbad\"]\n",
        "n=v*10\n",
        "print(n)"
      ],
      "metadata": {
        "id": "NACtK2oR4Any",
        "outputId": "ec7a7d34-db8b-4bb3-ce5b-128794b30c34",
        "colab": {
          "base_uri": "https://localhost:8080/"
        }
      },
      "execution_count": 46,
      "outputs": [
        {
          "output_type": "stream",
          "name": "stdout",
          "text": [
            "['welcome to hyderbad', 'welcome to hyderbad', 'welcome to hyderbad', 'welcome to hyderbad', 'welcome to hyderbad', 'welcome to hyderbad', 'welcome to hyderbad', 'welcome to hyderbad', 'welcome to hyderbad', 'welcome to hyderbad']\n"
          ]
        }
      ]
    },
    {
      "cell_type": "code",
      "source": [
        "a=[8,7,6]\n",
        "b=[7,5,7]\n",
        "print(a+b)"
      ],
      "metadata": {
        "id": "-NL5HbTi4V-S",
        "outputId": "13cbc4d1-05e7-4ae2-9979-8b84dd5e5e6e",
        "colab": {
          "base_uri": "https://localhost:8080/"
        }
      },
      "execution_count": 47,
      "outputs": [
        {
          "output_type": "stream",
          "name": "stdout",
          "text": [
            "[8, 7, 6, 7, 5, 7]\n"
          ]
        }
      ]
    },
    {
      "cell_type": "code",
      "source": [
        "a=[1,2,3]\n",
        "b=[4,5,6]\n",
        "c=a+b\n",
        "print(c)"
      ],
      "metadata": {
        "id": "0y2k0oTY4f29",
        "outputId": "7927bd23-221d-486d-f19b-c68bc6887136",
        "colab": {
          "base_uri": "https://localhost:8080/"
        }
      },
      "execution_count": 50,
      "outputs": [
        {
          "output_type": "stream",
          "name": "stdout",
          "text": [
            "[1, 2, 3, 4, 5, 6]\n"
          ]
        }
      ]
    }
  ]
}