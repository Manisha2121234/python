{
  "nbformat": 4,
  "nbformat_minor": 0,
  "metadata": {
    "colab": {
      "provenance": []
    },
    "kernelspec": {
      "name": "python3",
      "display_name": "Python 3"
    },
    "language_info": {
      "name": "python"
    }
  },
  "cells": [
    {
      "cell_type": "code",
      "execution_count": null,
      "metadata": {
        "id": "XZd6TLWo23WN"
      },
      "outputs": [],
      "source": []
    },
    {
      "cell_type": "markdown",
      "source": [
        "# Map Function:\n",
        " Map function means to perform the function of the each element and give the output of the each element."
      ],
      "metadata": {
        "id": "aApu5tZS27Af"
      }
    },
    {
      "cell_type": "code",
      "source": [
        "Num=[1,2,3]\n",
        "result=map(lambda n:n**2,Num)\n",
        "print(list(result))"
      ],
      "metadata": {
        "colab": {
          "base_uri": "https://localhost:8080/"
        },
        "id": "q7EH7zSc3Wt3",
        "outputId": "87119888-6082-4e40-e2da-47a32373dd6a"
      },
      "execution_count": 2,
      "outputs": [
        {
          "output_type": "stream",
          "name": "stdout",
          "text": [
            "[1, 4, 9]\n"
          ]
        }
      ]
    },
    {
      "cell_type": "code",
      "source": [
        "num=[1,2,3]\n",
        "num2=[3,4,5]\n",
        "grade=map(lambda n1, n2:n1+n2,num,num2)\n",
        "print(list(grade))"
      ],
      "metadata": {
        "colab": {
          "base_uri": "https://localhost:8080/"
        },
        "id": "wvq9SKT832ae",
        "outputId": "1064c267-48c8-446d-cbb5-956edc97d2c7"
      },
      "execution_count": 4,
      "outputs": [
        {
          "output_type": "stream",
          "name": "stdout",
          "text": [
            "[4, 6, 8]\n"
          ]
        }
      ]
    },
    {
      "cell_type": "code",
      "source": [
        "name=[\"manisha\",\"deepthi\",\"divya\"]\n",
        "result=map(lambda n:n.upper(),name)\n",
        "print(list(result))"
      ],
      "metadata": {
        "colab": {
          "base_uri": "https://localhost:8080/"
        },
        "id": "u3aJM1aa4do0",
        "outputId": "118b37b8-e43f-4323-867d-931523272063"
      },
      "execution_count": 6,
      "outputs": [
        {
          "output_type": "stream",
          "name": "stdout",
          "text": [
            "['MANISHA', 'DEEPTHI', 'DIVYA']\n"
          ]
        }
      ]
    },
    {
      "cell_type": "markdown",
      "source": [
        "# Filter Function:\n",
        "Filter function means to filter the elements in the function and return only true values.\n"
      ],
      "metadata": {
        "id": "14cosiaA5BKV"
      }
    },
    {
      "cell_type": "code",
      "source": [
        "num=[1,2,3]\n",
        "grade=filter(lambda n1:n1>1,num)\n",
        "print(list(grade))"
      ],
      "metadata": {
        "colab": {
          "base_uri": "https://localhost:8080/"
        },
        "id": "crJ4mpqI6gU2",
        "outputId": "69e624dd-8afa-49fb-889f-266064a8f3b3"
      },
      "execution_count": 10,
      "outputs": [
        {
          "output_type": "stream",
          "name": "stdout",
          "text": [
            "[2, 3]\n"
          ]
        }
      ]
    },
    {
      "cell_type": "code",
      "source": [
        "marks=[1,2,3,4,5,6,7,8,9,10]\n",
        "result=filter(lambda n:n%2==0,marks)\n",
        "print(list(result))"
      ],
      "metadata": {
        "colab": {
          "base_uri": "https://localhost:8080/"
        },
        "id": "15F-jRCE6vP9",
        "outputId": "1335dca1-b579-4243-d43a-5e4ec0f62dba"
      },
      "execution_count": 12,
      "outputs": [
        {
          "output_type": "stream",
          "name": "stdout",
          "text": [
            "[2, 4, 6, 8, 10]\n"
          ]
        }
      ]
    },
    {
      "cell_type": "code",
      "source": [
        "name=[\"manisha\",\"deepthi\",\"divya\"]\n",
        "result=filter(lambda n:n==\"divya\",name)\n",
        "print(list(result))"
      ],
      "metadata": {
        "colab": {
          "base_uri": "https://localhost:8080/"
        },
        "id": "s8sKV_Yo8Il7",
        "outputId": "58eb6b05-3159-4037-a8dc-5846d6be0493"
      },
      "execution_count": 17,
      "outputs": [
        {
          "output_type": "stream",
          "name": "stdout",
          "text": [
            "['divya']\n"
          ]
        }
      ]
    }
  ]
}