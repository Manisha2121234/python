{
  "nbformat": 4,
  "nbformat_minor": 0,
  "metadata": {
    "colab": {
      "provenance": []
    },
    "kernelspec": {
      "name": "python3",
      "display_name": "Python 3"
    },
    "language_info": {
      "name": "python"
    }
  },
  "cells": [
    {
      "cell_type": "code",
      "execution_count": null,
      "metadata": {
        "id": "9tQ0fHeQfVdq"
      },
      "outputs": [],
      "source": []
    },
    {
      "cell_type": "markdown",
      "source": [
        "#  what is Operator\n",
        "\n",
        "\n",
        "*   Operater is a symbol that used to perform mathematical or logical operations on variables and values.\n",
        "\n",
        "# Type of Operators\n",
        "\n",
        "*   There seven types of operators.those are:\n",
        "\n",
        "\n",
        "\n",
        "\n",
        "1.   Arithmetic Operation\n",
        "2.   Assignment Operation\n",
        "\n",
        "1.   Logical Operation\n",
        "2.   Compraison Operation\n",
        "\n",
        "1.   Identifier Operation\n",
        "2.   Membership Operation\n",
        "\n",
        "1.   Bitwise Operation\n",
        "\n",
        "\n",
        "\n",
        "\n",
        "\n",
        "\n",
        "\n",
        "\n",
        "\n",
        "\n"
      ],
      "metadata": {
        "id": "2jZOb7jwffwi"
      }
    },
    {
      "cell_type": "markdown",
      "source": [
        "# Assignment Operation\n",
        "\n",
        "\n",
        "*   Assignment Operators are used to assign values to variables.\n",
        "*   There are seven type of assignment operators.\n",
        "\n",
        "   Assignment operators  is represented with '='\n",
        "1.   Addition operators '+'\n",
        "\n",
        "2.   Subtraction Operators '-'\n",
        "3.   Multiplication Operators '*'\n",
        "\n",
        "4.   Division Operators '/'\n",
        "5.   Remainder Operators '%'\n",
        "\n",
        "\n",
        "6.   Exponent Operators '**'\n",
        "\n",
        "\n",
        "\n",
        "\n",
        "\n",
        "\n",
        "\n",
        "\n"
      ],
      "metadata": {
        "id": "JunxjaO-msao"
      }
    },
    {
      "cell_type": "code",
      "source": [
        "a=6\n",
        "b=7\n",
        "a+=b\n",
        "print(a)"
      ],
      "metadata": {
        "colab": {
          "base_uri": "https://localhost:8080/"
        },
        "id": "y1yAmqdNq_PV",
        "outputId": "f3238b20-647a-48a4-fa49-7292a163902a"
      },
      "execution_count": null,
      "outputs": [
        {
          "output_type": "stream",
          "name": "stdout",
          "text": [
            "13\n"
          ]
        }
      ]
    },
    {
      "cell_type": "code",
      "source": [
        "a=7\n",
        "b=8\n",
        "a-=b\n",
        "print(a)"
      ],
      "metadata": {
        "colab": {
          "base_uri": "https://localhost:8080/"
        },
        "id": "dLZbE0RTr5DY",
        "outputId": "bfadf73b-60af-42a5-9bce-aed5daecfc05"
      },
      "execution_count": null,
      "outputs": [
        {
          "output_type": "stream",
          "name": "stdout",
          "text": [
            "-1\n"
          ]
        }
      ]
    },
    {
      "cell_type": "code",
      "source": [
        "a=3\n",
        "b=4\n",
        "a*=b\n",
        "print(a)"
      ],
      "metadata": {
        "colab": {
          "base_uri": "https://localhost:8080/"
        },
        "id": "JwGlb2YXsLlK",
        "outputId": "fc6cc1a9-3e81-4586-ea07-e4e97db55568"
      },
      "execution_count": null,
      "outputs": [
        {
          "output_type": "stream",
          "name": "stdout",
          "text": [
            "12\n"
          ]
        }
      ]
    },
    {
      "cell_type": "code",
      "source": [
        "a=1\n",
        "b=2\n",
        "a/=b\n",
        "print(a)"
      ],
      "metadata": {
        "colab": {
          "base_uri": "https://localhost:8080/"
        },
        "id": "EaZR7LiwsXBF",
        "outputId": "1677c78b-6593-46bd-b2df-546164071e6f"
      },
      "execution_count": null,
      "outputs": [
        {
          "output_type": "stream",
          "name": "stdout",
          "text": [
            "0.5\n"
          ]
        }
      ]
    },
    {
      "cell_type": "code",
      "source": [
        "a=3\n",
        "b=4\n",
        "a%=b\n",
        "print(a)"
      ],
      "metadata": {
        "colab": {
          "base_uri": "https://localhost:8080/"
        },
        "id": "cybkteIWskjC",
        "outputId": "dca4f9f3-02f4-4fe5-a204-98829ec0098d"
      },
      "execution_count": null,
      "outputs": [
        {
          "output_type": "stream",
          "name": "stdout",
          "text": [
            "3\n"
          ]
        }
      ]
    },
    {
      "cell_type": "code",
      "source": [
        "a=4\n",
        "b=5\n",
        "a**=b\n",
        "print(a)\n",
        "z=float(a)\n",
        "print(z)"
      ],
      "metadata": {
        "colab": {
          "base_uri": "https://localhost:8080/"
        },
        "id": "u0-1fO3hs3-k",
        "outputId": "129b0ff7-0e81-4be9-e798-210b81312c7b"
      },
      "execution_count": null,
      "outputs": [
        {
          "output_type": "stream",
          "name": "stdout",
          "text": [
            "1024\n",
            "1024.0\n"
          ]
        }
      ]
    },
    {
      "cell_type": "code",
      "source": [
        "a=5\n",
        "b=6\n",
        "a=-b\n",
        "print(a)"
      ],
      "metadata": {
        "colab": {
          "base_uri": "https://localhost:8080/"
        },
        "id": "WviCqnevtHTT",
        "outputId": "a6e87c90-1343-4612-f915-6d12a74d2693"
      },
      "execution_count": null,
      "outputs": [
        {
          "output_type": "stream",
          "name": "stdout",
          "text": [
            "-6\n"
          ]
        }
      ]
    },
    {
      "cell_type": "code",
      "source": [
        "a=12\n",
        "b=13\n",
        "a+=b\n",
        "print(a)"
      ],
      "metadata": {
        "colab": {
          "base_uri": "https://localhost:8080/"
        },
        "id": "qHtqmQTPtwfI",
        "outputId": "11c8a3bd-1415-4676-bcc5-e674ccf0b10a"
      },
      "execution_count": null,
      "outputs": [
        {
          "output_type": "stream",
          "name": "stdout",
          "text": [
            "25\n"
          ]
        }
      ]
    },
    {
      "cell_type": "code",
      "source": [
        "a=12\n",
        "b=13\n",
        "a=+b\n",
        "print(a)"
      ],
      "metadata": {
        "colab": {
          "base_uri": "https://localhost:8080/"
        },
        "id": "GVrOv8UNt8Uy",
        "outputId": "2edaee11-2b12-430a-ffa6-ebf219e61776"
      },
      "execution_count": null,
      "outputs": [
        {
          "output_type": "stream",
          "name": "stdout",
          "text": [
            "13\n"
          ]
        }
      ]
    },
    {
      "cell_type": "markdown",
      "source": [
        "# Arithmetic Operatoins\n",
        "\n",
        "\n",
        "*   Arithmetic Operators are used to\n",
        "*   Arithmetic Operators are clasified into seven types.Those are\n",
        "\n",
        "1.   Addition '+'\n",
        "2.   Subtraction '-'\n",
        "\n",
        "1.   Multiplication '*'\n",
        "2.   Division '/'\n",
        "\n",
        "1.   Module '%'\n",
        "2.   Exponent '**'\n",
        "\n",
        "1.   Floor division '//'\n",
        "\n",
        "\n",
        "\n",
        "\n",
        "\n",
        "\n",
        "\n",
        "\n",
        "\n"
      ],
      "metadata": {
        "id": "ueJVAkgZukSA"
      }
    },
    {
      "cell_type": "code",
      "source": [
        "a=5\n",
        "b=4\n",
        "c=a+b\n",
        "print(c)"
      ],
      "metadata": {
        "colab": {
          "base_uri": "https://localhost:8080/"
        },
        "id": "zk610sLazpzZ",
        "outputId": "abc3d17b-44b9-4b46-ee63-0857bf7b8bd4"
      },
      "execution_count": null,
      "outputs": [
        {
          "output_type": "stream",
          "name": "stdout",
          "text": [
            "9\n"
          ]
        }
      ]
    },
    {
      "cell_type": "code",
      "source": [
        "d=a-b\n",
        "print(d)"
      ],
      "metadata": {
        "colab": {
          "base_uri": "https://localhost:8080/"
        },
        "id": "NQQfIdnN0bsT",
        "outputId": "236c7e3a-c73c-4dc7-f263-ffeef2f44e19"
      },
      "execution_count": null,
      "outputs": [
        {
          "output_type": "stream",
          "name": "stdout",
          "text": [
            "1\n"
          ]
        }
      ]
    },
    {
      "cell_type": "code",
      "source": [
        "a=4\n",
        "b=3\n",
        "c=a*b\n",
        "print(c)"
      ],
      "metadata": {
        "colab": {
          "base_uri": "https://localhost:8080/"
        },
        "id": "HjBMyC0m0zt6",
        "outputId": "e8d152de-ec85-4d96-e5d1-911eb0eaafb3"
      },
      "execution_count": null,
      "outputs": [
        {
          "output_type": "stream",
          "name": "stdout",
          "text": [
            "12\n"
          ]
        }
      ]
    },
    {
      "cell_type": "code",
      "source": [
        "e=a/b\n",
        "print(e)\n",
        "y=int(e)\n",
        "print(y)"
      ],
      "metadata": {
        "colab": {
          "base_uri": "https://localhost:8080/"
        },
        "id": "X7jXYzhk2IP6",
        "outputId": "b70b2eab-d678-4bc4-c9eb-77400212edfa"
      },
      "execution_count": null,
      "outputs": [
        {
          "output_type": "stream",
          "name": "stdout",
          "text": [
            "0.8333333333333334\n",
            "0\n"
          ]
        }
      ]
    },
    {
      "cell_type": "code",
      "source": [
        "f=a%b\n",
        "print(f)"
      ],
      "metadata": {
        "colab": {
          "base_uri": "https://localhost:8080/"
        },
        "id": "KoxDdnVv2PVp",
        "outputId": "989a25cf-3d30-4050-e5be-a349dde49f07"
      },
      "execution_count": null,
      "outputs": [
        {
          "output_type": "stream",
          "name": "stdout",
          "text": [
            "1\n"
          ]
        }
      ]
    },
    {
      "cell_type": "code",
      "source": [
        "a=5\n",
        "b=6\n",
        "c=a//b\n",
        "print(c)"
      ],
      "metadata": {
        "colab": {
          "base_uri": "https://localhost:8080/"
        },
        "id": "mFXTts6T2dbx",
        "outputId": "0f0668cf-20ce-45b1-c309-db96fd96b82f"
      },
      "execution_count": null,
      "outputs": [
        {
          "output_type": "stream",
          "name": "stdout",
          "text": [
            "0\n"
          ]
        }
      ]
    },
    {
      "cell_type": "markdown",
      "source": [],
      "metadata": {
        "id": "yqHQ_O19fb-P"
      }
    },
    {
      "cell_type": "code",
      "source": [
        "a=5\n",
        "b=6\n",
        "c=a+b\n",
        "print(c)\n",
        "z=float(c)\n",
        "print(z)"
      ],
      "metadata": {
        "colab": {
          "base_uri": "https://localhost:8080/"
        },
        "id": "BBIE8NOi3LmD",
        "outputId": "5a61d49e-854b-49bc-eaf2-0bb8f94fcf15"
      },
      "execution_count": null,
      "outputs": [
        {
          "output_type": "stream",
          "name": "stdout",
          "text": [
            "11\n",
            "11.0\n"
          ]
        }
      ]
    },
    {
      "cell_type": "code",
      "source": [
        "a=2\n",
        "b=3\n",
        "c=a-b\n",
        "print(c)\n",
        "z=bool(c)\n",
        "print(z)"
      ],
      "metadata": {
        "colab": {
          "base_uri": "https://localhost:8080/"
        },
        "id": "2DuwkOVW3ioz",
        "outputId": "c92106c9-b6ea-401c-c710-95124a13e4c8"
      },
      "execution_count": null,
      "outputs": [
        {
          "output_type": "stream",
          "name": "stdout",
          "text": [
            "-1\n",
            "True\n"
          ]
        }
      ]
    },
    {
      "cell_type": "code",
      "source": [
        "a=5\n",
        "b=6\n",
        "c=a**b\n",
        "print(c)"
      ],
      "metadata": {
        "colab": {
          "base_uri": "https://localhost:8080/"
        },
        "id": "kGy-lpBd5NR9",
        "outputId": "0f367be9-0885-4b88-a89b-db45f072c1c7"
      },
      "execution_count": null,
      "outputs": [
        {
          "output_type": "stream",
          "name": "stdout",
          "text": [
            "15625\n"
          ]
        }
      ]
    },
    {
      "cell_type": "markdown",
      "source": [
        "# Comparsion Operations\n",
        "\n",
        "\n",
        "*   It compares two values/variables and return a boolean result:true or flase.\n",
        "*    There are several types.those are:\n",
        "\n",
        "1.   == is equal to\n",
        "2.   != Not equal to\n",
        "\n",
        "\n",
        "1.   > Greater than\n",
        "2.   < Less than\n",
        "\n",
        "1.   >= Greater than or equal to\n",
        "2.   <= Less than or equal to\n",
        "\n",
        "\n",
        "\n",
        "\n",
        "\n",
        "\n",
        "\n"
      ],
      "metadata": {
        "id": "akuT4xbq5vIf"
      }
    },
    {
      "cell_type": "code",
      "source": [
        "a=32\n",
        "b=57\n",
        "print(a==b)"
      ],
      "metadata": {
        "colab": {
          "base_uri": "https://localhost:8080/"
        },
        "id": "9t9mXT6d7kC1",
        "outputId": "4d0eaea8-2d7f-415e-895e-6116b381297d"
      },
      "execution_count": null,
      "outputs": [
        {
          "output_type": "stream",
          "name": "stdout",
          "text": [
            "False\n"
          ]
        }
      ]
    },
    {
      "cell_type": "code",
      "source": [
        "a=4\n",
        "b=6\n",
        "print(a!=b)\n"
      ],
      "metadata": {
        "colab": {
          "base_uri": "https://localhost:8080/"
        },
        "id": "J8rcF2Ac7xfj",
        "outputId": "4d39a257-dbef-4098-fe4d-b6ca090e328d"
      },
      "execution_count": null,
      "outputs": [
        {
          "output_type": "stream",
          "name": "stdout",
          "text": [
            "True\n"
          ]
        }
      ]
    },
    {
      "cell_type": "code",
      "source": [
        "print(a>=b)"
      ],
      "metadata": {
        "colab": {
          "base_uri": "https://localhost:8080/"
        },
        "id": "VsPBietr8D8y",
        "outputId": "430c605e-df59-4d22-84eb-2b00bcfb6372"
      },
      "execution_count": null,
      "outputs": [
        {
          "output_type": "stream",
          "name": "stdout",
          "text": [
            "False\n"
          ]
        }
      ]
    },
    {
      "cell_type": "code",
      "source": [
        "print(a<=b)"
      ],
      "metadata": {
        "colab": {
          "base_uri": "https://localhost:8080/"
        },
        "id": "FxImUu6A8MVD",
        "outputId": "5b899a8e-d099-4ced-fadd-1cfd87bb5859"
      },
      "execution_count": null,
      "outputs": [
        {
          "output_type": "stream",
          "name": "stdout",
          "text": [
            "True\n"
          ]
        }
      ]
    },
    {
      "cell_type": "code",
      "source": [
        "print(a>b)"
      ],
      "metadata": {
        "colab": {
          "base_uri": "https://localhost:8080/"
        },
        "id": "MR3tUpfI8Qs-",
        "outputId": "4fcc6797-de33-47a7-f151-737a5a1e6319"
      },
      "execution_count": null,
      "outputs": [
        {
          "output_type": "stream",
          "name": "stdout",
          "text": [
            "False\n"
          ]
        }
      ]
    },
    {
      "cell_type": "code",
      "source": [
        "print(a<b)"
      ],
      "metadata": {
        "colab": {
          "base_uri": "https://localhost:8080/"
        },
        "id": "kwEzYsaT8XfU",
        "outputId": "6ff586f0-a478-4d21-d66f-71071ec94635"
      },
      "execution_count": null,
      "outputs": [
        {
          "output_type": "stream",
          "name": "stdout",
          "text": [
            "True\n"
          ]
        }
      ]
    },
    {
      "cell_type": "code",
      "source": [
        "a=5\n",
        "b=6\n",
        "c=a+b\n",
        "print(a==b)\n",
        "z=int(c)\n",
        "print(z)\n"
      ],
      "metadata": {
        "colab": {
          "base_uri": "https://localhost:8080/"
        },
        "id": "8le4AJXa8dqn",
        "outputId": "fc460241-e059-4aa0-bafb-8e9a2696cc06"
      },
      "execution_count": null,
      "outputs": [
        {
          "output_type": "stream",
          "name": "stdout",
          "text": [
            "False\n",
            "11\n"
          ]
        }
      ]
    },
    {
      "cell_type": "code",
      "source": [
        "a=4\n",
        "b=5\n",
        "c=a-b\n",
        "print(a!=b)\n",
        "z=float(c)\n",
        "print(z)"
      ],
      "metadata": {
        "colab": {
          "base_uri": "https://localhost:8080/"
        },
        "id": "a4Lnf6Dj88Hy",
        "outputId": "04517f73-af82-4f03-a10b-f4b4b6e799dc"
      },
      "execution_count": null,
      "outputs": [
        {
          "output_type": "stream",
          "name": "stdout",
          "text": [
            "True\n",
            "-1.0\n"
          ]
        }
      ]
    },
    {
      "cell_type": "markdown",
      "source": [
        "# Identity Operator\n",
        "It is used to identify wheather the value is present or not.\n"
      ],
      "metadata": {
        "id": "2dQryXlXQXoq"
      }
    },
    {
      "cell_type": "code",
      "source": [
        "a=5\n",
        "b=5\n",
        "c=\"manisha\"\n",
        "d=\"syed manisha\"\n",
        "print(a is b)\n",
        "print(c is d)\n"
      ],
      "metadata": {
        "colab": {
          "base_uri": "https://localhost:8080/"
        },
        "id": "0yhXWk0RQ0Ej",
        "outputId": "a0de7120-ca5f-4728-d9d3-ec431f5bee6e"
      },
      "execution_count": 7,
      "outputs": [
        {
          "output_type": "stream",
          "name": "stdout",
          "text": [
            "True\n",
            "False\n"
          ]
        }
      ]
    },
    {
      "cell_type": "code",
      "source": [
        "a=\"time\"\n",
        "b=\"time\"\n",
        "print(a is not b)"
      ],
      "metadata": {
        "colab": {
          "base_uri": "https://localhost:8080/"
        },
        "id": "sh5T1nt1Rf7v",
        "outputId": "b60f0d36-34f1-4c3d-d750-65c865e5a1e4"
      },
      "execution_count": 6,
      "outputs": [
        {
          "output_type": "stream",
          "name": "stdout",
          "text": [
            "False\n"
          ]
        }
      ]
    },
    {
      "cell_type": "markdown",
      "source": [
        "# Membership Operator\n",
        "It is used to test wheather a value or variable is found in a sequence or not.\n",
        "\n",
        "\n",
        "*   in\n",
        "*   not in\n",
        "\n"
      ],
      "metadata": {
        "id": "xCvQwF13R-ME"
      }
    },
    {
      "cell_type": "code",
      "source": [
        "a=[1,2,3,]\n",
        "print(3 in a)\n",
        "print(8  not in a)"
      ],
      "metadata": {
        "colab": {
          "base_uri": "https://localhost:8080/"
        },
        "id": "UlyapBo6Sflq",
        "outputId": "10de705e-fd9f-410f-816a-49af92e85d05"
      },
      "execution_count": 9,
      "outputs": [
        {
          "output_type": "stream",
          "name": "stdout",
          "text": [
            "True\n",
            "True\n"
          ]
        }
      ]
    },
    {
      "cell_type": "markdown",
      "source": [
        "# Bitewise Operator\n",
        " These are 6 types.they are:\n",
        "\n",
        "\n",
        "1.   AND  (&)\n",
        "2.   OR   (|)\n",
        "\n",
        "1.   NOT  (~)\n",
        "2.   XOR  (^)\n",
        "\n",
        "1.   Left Shift Bitewise (<<)\n",
        "2.   Right Shift Bitewise (>>)\n",
        "\n",
        "\n",
        "\n",
        "\n",
        "\n"
      ],
      "metadata": {
        "id": "aFJQPXuwTBTu"
      }
    },
    {
      "cell_type": "code",
      "source": [
        "a=16\n",
        "b=17\n",
        "print(a&b)"
      ],
      "metadata": {
        "colab": {
          "base_uri": "https://localhost:8080/"
        },
        "id": "JZeXvE1EU7RT",
        "outputId": "9e017aea-30bf-40e7-f749-9c9d8816c2b0"
      },
      "execution_count": 10,
      "outputs": [
        {
          "output_type": "stream",
          "name": "stdout",
          "text": [
            "16\n"
          ]
        }
      ]
    },
    {
      "cell_type": "code",
      "source": [
        "a=5\n",
        "b=6\n",
        "print(a|b)"
      ],
      "metadata": {
        "colab": {
          "base_uri": "https://localhost:8080/"
        },
        "id": "h7CnaHz-VF9C",
        "outputId": "f69662f1-d8a6-4a2b-e5e3-cad4f230396b"
      },
      "execution_count": 11,
      "outputs": [
        {
          "output_type": "stream",
          "name": "stdout",
          "text": [
            "7\n"
          ]
        }
      ]
    },
    {
      "cell_type": "code",
      "source": [
        "a=7\n",
        "b=6\n",
        "print(a^b)"
      ],
      "metadata": {
        "colab": {
          "base_uri": "https://localhost:8080/"
        },
        "id": "VqjysAVUV3lX",
        "outputId": "73440ca9-1651-4919-855b-880f206e250e"
      },
      "execution_count": 14,
      "outputs": [
        {
          "output_type": "stream",
          "name": "stdout",
          "text": [
            "1\n"
          ]
        }
      ]
    },
    {
      "cell_type": "code",
      "source": [
        "a=17\n",
        "b=6\n",
        "print(a>>b)"
      ],
      "metadata": {
        "colab": {
          "base_uri": "https://localhost:8080/"
        },
        "id": "b_CwDOERW5lW",
        "outputId": "a1b7dac8-4910-4675-d39e-a4cf98235f40"
      },
      "execution_count": 15,
      "outputs": [
        {
          "output_type": "stream",
          "name": "stdout",
          "text": [
            "0\n"
          ]
        }
      ]
    },
    {
      "cell_type": "code",
      "source": [
        "a=17\n",
        "b=6\n",
        "print(a<<b)"
      ],
      "metadata": {
        "colab": {
          "base_uri": "https://localhost:8080/"
        },
        "id": "tuwcKgqlXUji",
        "outputId": "23d4e47d-08ca-493b-ada8-45055826d702"
      },
      "execution_count": 16,
      "outputs": [
        {
          "output_type": "stream",
          "name": "stdout",
          "text": [
            "1088\n"
          ]
        }
      ]
    }
  ]
}