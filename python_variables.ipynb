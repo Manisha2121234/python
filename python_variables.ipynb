{
  "nbformat": 4,
  "nbformat_minor": 0,
  "metadata": {
    "colab": {
      "provenance": []
    },
    "kernelspec": {
      "name": "python3",
      "display_name": "Python 3"
    },
    "language_info": {
      "name": "python"
    }
  },
  "cells": [
    {
      "cell_type": "markdown",
      "source": [
        "# Python Variable\n",
        "\n",
        "*   python variables are the reserved memory locations used to store values with in a python.\n",
        "*   variables are containers for storing data values.\n",
        "*   This means that when you crete a variable\n",
        "\n",
        "\n",
        "\n"
      ],
      "metadata": {
        "id": "PWNuNBN641vd"
      }
    },
    {
      "cell_type": "code",
      "source": [
        "#creating a variable\n",
        "a=10\n",
        "print(a)"
      ],
      "metadata": {
        "colab": {
          "base_uri": "https://localhost:8080/"
        },
        "id": "ENZdOAgn8CUf",
        "outputId": "e61fbea2-f817-4db3-b6ae-a6d646cc536a"
      },
      "execution_count": null,
      "outputs": [
        {
          "output_type": "stream",
          "name": "stdout",
          "text": [
            "10\n"
          ]
        }
      ]
    },
    {
      "cell_type": "code",
      "source": [
        "#creating a variable\n",
        "b=20\n",
        "color='black'\n",
        "print(b)\n",
        "print(color)"
      ],
      "metadata": {
        "colab": {
          "base_uri": "https://localhost:8080/"
        },
        "id": "q6Tm1tsU8V9P",
        "outputId": "45bf76a6-d932-479c-c9d1-4178f08c075e"
      },
      "execution_count": null,
      "outputs": [
        {
          "output_type": "stream",
          "name": "stdout",
          "text": [
            "20\n",
            "black\n"
          ]
        }
      ]
    },
    {
      "cell_type": "markdown",
      "source": [
        "# Rules To Create a Variables\n",
        "\n",
        "*   A Variable name can only contains alph_numeric characters and underscore(A-Z,a-z,0-9, and -).\n",
        "*   A Variable name cannot start with a number or any special characters like $,/,*,% etc.\n",
        "\n",
        "*   Python reserved keywords cannot be used naming the variable.\n",
        "*   Python variable names are case-sensitive which means Name and NAME are two different variables in python.\n",
        "\n",
        "*   Variable name can't start with digits.\n",
        "\n",
        "*   Keywords like if or the Boolean True are reserved and cannot be used as variables names.\n",
        "\n",
        "\n",
        "\n",
        "\n",
        "\n",
        "\n",
        "\n",
        "\n",
        "\n"
      ],
      "metadata": {
        "id": "nIfGcSuO9KeO"
      }
    },
    {
      "cell_type": "markdown",
      "source": [
        "#valid variables\n",
        "\n",
        "\n",
        "\n",
        "\n",
        "\n",
        "1.   isActive\n",
        "2.   maxValue\n",
        "\n",
        "1.   minValue\n",
        "2.  score\n",
        "\n",
        "1.   averageTemperature\n",
        "2.   userAge\n",
        "\n",
        "1.   productID\n",
        "2.   currentSpeed\n",
        "\n",
        "1.   userName\n",
        "2.   totalAmount\n",
        "\n",
        "1.   itemcount\n",
        "\n",
        "1.   fileName\n",
        "2.   addressLine1\n",
        "\n",
        "1.   emailAddress\n",
        "2.   numberofItems\n",
        "\n",
        "1.   lastLoginDate\n",
        "\n",
        "1.   totalCost\n",
        "2.   discountRate\n",
        "\n",
        "1.   paymentStatus\n",
        "2.   xCoordinate\n",
        "\n",
        "\n",
        "\n",
        "\n",
        "\n",
        "\n",
        "\n",
        "\n",
        "\n",
        "\n",
        "\n",
        "\n",
        "\n",
        "\n",
        "\n",
        "\n",
        "\n",
        "\n",
        "\n",
        "\n",
        "\n",
        "\n",
        "\n",
        "\n"
      ],
      "metadata": {
        "id": "fCvldLasnb8d"
      }
    },
    {
      "cell_type": "code",
      "source": [
        "#valid variables\n",
        "var=12\n",
        "print(var)"
      ],
      "metadata": {
        "colab": {
          "base_uri": "https://localhost:8080/"
        },
        "id": "_ve_CtN0jBEy",
        "outputId": "56473502-755e-4d1c-cfd4-e4df3f90e471"
      },
      "execution_count": 1,
      "outputs": [
        {
          "output_type": "stream",
          "name": "stdout",
          "text": [
            "12\n"
          ]
        }
      ]
    },
    {
      "cell_type": "code",
      "source": [
        "var_2=23\n",
        "print(var_2)"
      ],
      "metadata": {
        "colab": {
          "base_uri": "https://localhost:8080/"
        },
        "id": "VcpOOk1-lyGU",
        "outputId": "44bc7e8a-be0b-4ad0-c55f-5a0b9be83209"
      },
      "execution_count": 2,
      "outputs": [
        {
          "output_type": "stream",
          "name": "stdout",
          "text": [
            "23\n"
          ]
        }
      ]
    },
    {
      "cell_type": "code",
      "source": [
        "_var1=\"hello\"\n",
        "print(_var1)"
      ],
      "metadata": {
        "colab": {
          "base_uri": "https://localhost:8080/"
        },
        "id": "fqlxa66ymHdC",
        "outputId": "92d1c0cd-ac98-4270-f5a5-abb11a31fde6"
      },
      "execution_count": 3,
      "outputs": [
        {
          "output_type": "stream",
          "name": "stdout",
          "text": [
            "hello\n"
          ]
        }
      ]
    },
    {
      "cell_type": "code",
      "source": [
        "var_var2=5\n",
        "print(var_var2)"
      ],
      "metadata": {
        "colab": {
          "base_uri": "https://localhost:8080/"
        },
        "id": "Pz1tV2pumW19",
        "outputId": "a415d4a6-2999-4e28-8e11-5a7a530e7cf6"
      },
      "execution_count": 4,
      "outputs": [
        {
          "output_type": "stream",
          "name": "stdout",
          "text": [
            "5\n"
          ]
        }
      ]
    },
    {
      "cell_type": "code",
      "source": [
        "deff=5\n",
        "print(deff)"
      ],
      "metadata": {
        "colab": {
          "base_uri": "https://localhost:8080/"
        },
        "id": "Vn9ta_PTmzeZ",
        "outputId": "a997f459-9c6c-472b-c414-e5ff23d15b4a"
      },
      "execution_count": 5,
      "outputs": [
        {
          "output_type": "stream",
          "name": "stdout",
          "text": [
            "5\n"
          ]
        }
      ]
    },
    {
      "cell_type": "markdown",
      "source": [
        "#invalid varibles\n",
        "\n",
        "1.   1stplace(starts with a number)\n",
        "2.   user_name(contains a space)\n",
        "\n",
        "1.   total amount(contains a hyphen)\n",
        "2.   if(reserved keyword)\n",
        "\n",
        "1.   while(reserved keyword)\n",
        "2.   class(reserved keyword)\n",
        "\n",
        "1.   for(reserved keyword)\n",
        "2.   @username(contains special character)\n",
        "\n",
        "1.   user#name(contains special character)\n",
        "2.   totalAmount$(contains special character)\n",
        "\n",
        "1.   123total(starts with a number)\n",
        "2.   -discount(starts with a number)\n",
        "\n",
        "1.   endDate!(contains special character)\n",
        "2.   user name(contains a space)\n",
        "\n",
        "1.   file.name(contains a dot)\n",
        "2.   retun(reseved keyword)\n",
        "\n",
        "1.   static(reserved keyword)\n",
        "2.   function(reserved keyword)\n",
        "\n",
        "1.   var(reserved keyword)\n",
        "2.   123abc(starts with a number)\n",
        "\n",
        "\n",
        "\n",
        "\n",
        "\n",
        "\n",
        "\n",
        "\n",
        "\n",
        "\n",
        "\n",
        "\n",
        "\n",
        "\n",
        "\n",
        "\n",
        "\n",
        "\n",
        "\n"
      ],
      "metadata": {
        "id": "JUEfflA4rnNN"
      }
    },
    {
      "cell_type": "code",
      "source": [
        "#invalid variables\n",
        "1_var=123\n",
        "print(1_var)"
      ],
      "metadata": {
        "colab": {
          "base_uri": "https://localhost:8080/",
          "height": 106
        },
        "id": "W5mnKHtSubcK",
        "outputId": "310cdd3c-e169-4ad4-adc9-2aba76486acf"
      },
      "execution_count": 6,
      "outputs": [
        {
          "output_type": "error",
          "ename": "SyntaxError",
          "evalue": "invalid decimal literal (<ipython-input-6-88982578a9c1>, line 2)",
          "traceback": [
            "\u001b[0;36m  File \u001b[0;32m\"<ipython-input-6-88982578a9c1>\"\u001b[0;36m, line \u001b[0;32m2\u001b[0m\n\u001b[0;31m    1_var=123\u001b[0m\n\u001b[0m     ^\u001b[0m\n\u001b[0;31mSyntaxError\u001b[0m\u001b[0;31m:\u001b[0m invalid decimal literal\n"
          ]
        }
      ]
    },
    {
      "cell_type": "code",
      "source": [
        "@var=\"data\"\n",
        "print(@var)"
      ],
      "metadata": {
        "colab": {
          "base_uri": "https://localhost:8080/",
          "height": 106
        },
        "id": "Pg-1AQ5Eu-Zz",
        "outputId": "aec18d6c-ad36-45f2-926d-1dc622f0b10f"
      },
      "execution_count": 7,
      "outputs": [
        {
          "output_type": "error",
          "ename": "SyntaxError",
          "evalue": "invalid syntax. Maybe you meant '==' or ':=' instead of '='? (<ipython-input-7-e883ea70e6de>, line 1)",
          "traceback": [
            "\u001b[0;36m  File \u001b[0;32m\"<ipython-input-7-e883ea70e6de>\"\u001b[0;36m, line \u001b[0;32m1\u001b[0m\n\u001b[0;31m    @var=\"data\"\u001b[0m\n\u001b[0m     ^\u001b[0m\n\u001b[0;31mSyntaxError\u001b[0m\u001b[0;31m:\u001b[0m invalid syntax. Maybe you meant '==' or ':=' instead of '='?\n"
          ]
        }
      ]
    },
    {
      "cell_type": "code",
      "source": [
        "for='python'\n",
        "print(for)"
      ],
      "metadata": {
        "colab": {
          "base_uri": "https://localhost:8080/",
          "height": 106
        },
        "id": "15YK1mVzvI_-",
        "outputId": "f8fbb6b3-f206-4879-cd41-35deed7cfff1"
      },
      "execution_count": 8,
      "outputs": [
        {
          "output_type": "error",
          "ename": "SyntaxError",
          "evalue": "invalid syntax (<ipython-input-8-29aa06b0ab33>, line 1)",
          "traceback": [
            "\u001b[0;36m  File \u001b[0;32m\"<ipython-input-8-29aa06b0ab33>\"\u001b[0;36m, line \u001b[0;32m1\u001b[0m\n\u001b[0;31m    for='python'\u001b[0m\n\u001b[0m       ^\u001b[0m\n\u001b[0;31mSyntaxError\u001b[0m\u001b[0;31m:\u001b[0m invalid syntax\n"
          ]
        }
      ]
    },
    {
      "cell_type": "code",
      "source": [
        "1 var=123\n",
        "print(1 var)"
      ],
      "metadata": {
        "colab": {
          "base_uri": "https://localhost:8080/",
          "height": 106
        },
        "id": "Teu8UXA8vSwl",
        "outputId": "874c7811-fe5b-4d92-d7f6-f01e42adf459"
      },
      "execution_count": 9,
      "outputs": [
        {
          "output_type": "error",
          "ename": "SyntaxError",
          "evalue": "invalid syntax (<ipython-input-9-4a0767492a61>, line 1)",
          "traceback": [
            "\u001b[0;36m  File \u001b[0;32m\"<ipython-input-9-4a0767492a61>\"\u001b[0;36m, line \u001b[0;32m1\u001b[0m\n\u001b[0;31m    1 var=123\u001b[0m\n\u001b[0m      ^\u001b[0m\n\u001b[0;31mSyntaxError\u001b[0m\u001b[0;31m:\u001b[0m invalid syntax\n"
          ]
        }
      ]
    }
  ]
}