{
  "nbformat": 4,
  "nbformat_minor": 0,
  "metadata": {
    "colab": {
      "provenance": []
    },
    "kernelspec": {
      "name": "python3",
      "display_name": "Python 3"
    },
    "language_info": {
      "name": "python"
    }
  },
  "cells": [
    {
      "cell_type": "code",
      "execution_count": null,
      "metadata": {
        "id": "-sxDJrfSDkcl"
      },
      "outputs": [],
      "source": []
    },
    {
      "cell_type": "markdown",
      "source": [
        "# Python String:\n",
        "\n",
        "*   In python,a string is sequence of characters.\n",
        "*   we use single quotes or double qoutes to respresent a string in python.\n",
        "\n",
        "*   String are one of the most commonly used data types, and they are used to represent text.\n",
        "*   However, you can perform various operations and used methods to manipulate and work with string.\n",
        "\n",
        "\n",
        "\n"
      ],
      "metadata": {
        "id": "RVyTpZGXD9HQ"
      }
    },
    {
      "cell_type": "code",
      "source": [
        "str1=\"hello\"\n",
        "print(type(str1))"
      ],
      "metadata": {
        "colab": {
          "base_uri": "https://localhost:8080/"
        },
        "id": "IRpCr3_8Hev5",
        "outputId": "07372f7a-917f-4748-89d2-9954dc238c6b"
      },
      "execution_count": null,
      "outputs": [
        {
          "output_type": "stream",
          "name": "stdout",
          "text": [
            "<class 'str'>\n"
          ]
        }
      ]
    },
    {
      "cell_type": "code",
      "source": [
        "a='1,2,3,4'\n",
        "print(type(a))"
      ],
      "metadata": {
        "colab": {
          "base_uri": "https://localhost:8080/"
        },
        "id": "FduYZ0KgIE97",
        "outputId": "093df0b7-12cb-4e50-d431-1d57faf9a6fb"
      },
      "execution_count": null,
      "outputs": [
        {
          "output_type": "stream",
          "name": "stdout",
          "text": [
            "<class 'str'>\n"
          ]
        }
      ]
    },
    {
      "cell_type": "code",
      "source": [
        "str2=\"\"\"\" my name is manisha\"\"\"\n",
        "print(type(str2))"
      ],
      "metadata": {
        "colab": {
          "base_uri": "https://localhost:8080/"
        },
        "id": "M4OWqCwGISAL",
        "outputId": "5b546157-3fb7-403a-a29d-f7e0d0532d0e"
      },
      "execution_count": null,
      "outputs": [
        {
          "output_type": "stream",
          "name": "stdout",
          "text": [
            "<class 'str'>\n"
          ]
        }
      ]
    },
    {
      "cell_type": "code",
      "source": [
        "str3=\"hello world'\n",
        "print(type(str3))"
      ],
      "metadata": {
        "colab": {
          "base_uri": "https://localhost:8080/",
          "height": 106
        },
        "id": "g8XWFMBUIu1e",
        "outputId": "cafc51f7-5703-4032-f0bf-e46adafce5f4"
      },
      "execution_count": null,
      "outputs": [
        {
          "output_type": "error",
          "ename": "SyntaxError",
          "evalue": "unterminated string literal (detected at line 1) (<ipython-input-5-61d235f09ce2>, line 1)",
          "traceback": [
            "\u001b[0;36m  File \u001b[0;32m\"<ipython-input-5-61d235f09ce2>\"\u001b[0;36m, line \u001b[0;32m1\u001b[0m\n\u001b[0;31m    str3=\"hello world'\u001b[0m\n\u001b[0m         ^\u001b[0m\n\u001b[0;31mSyntaxError\u001b[0m\u001b[0;31m:\u001b[0m unterminated string literal (detected at line 1)\n"
          ]
        }
      ]
    },
    {
      "cell_type": "code",
      "source": [
        "A=\"hello,1,2,\"\n",
        "print(type(A))"
      ],
      "metadata": {
        "colab": {
          "base_uri": "https://localhost:8080/"
        },
        "id": "Uol9WDw-KtTc",
        "outputId": "a6a0e444-ebd2-4f85-d562-64a25905088a"
      },
      "execution_count": null,
      "outputs": [
        {
          "output_type": "stream",
          "name": "stdout",
          "text": [
            "<class 'str'>\n"
          ]
        }
      ]
    },
    {
      "cell_type": "code",
      "source": [
        "x=\"hello\"\"1\"\"2\"\n",
        "print(type(x))"
      ],
      "metadata": {
        "colab": {
          "base_uri": "https://localhost:8080/"
        },
        "id": "7JpggvvuLBHX",
        "outputId": "2ab64632-b8de-45e0-eb19-5f1dffb192eb"
      },
      "execution_count": null,
      "outputs": [
        {
          "output_type": "stream",
          "name": "stdout",
          "text": [
            "<class 'str'>\n"
          ]
        }
      ]
    },
    {
      "cell_type": "markdown",
      "source": [
        "# String operations:\n",
        "\n",
        "1.   Concatenation:\n",
        "combining of two or more string.\n",
        "\n"
      ],
      "metadata": {
        "id": "cHSQ84awLa5p"
      }
    },
    {
      "cell_type": "code",
      "source": [
        "str1=\"hello\"\n",
        "a='1,2,3,4'\n",
        "str2=\"\"\" my name is manisha\"\"\"\n",
        "A=\"hello\"\"1\"\"2\"\n",
        "x=\"hello,1,2,\"\n",
        "str3=str1+a+str2+A+x\n",
        "print(str3)"
      ],
      "metadata": {
        "colab": {
          "base_uri": "https://localhost:8080/"
        },
        "id": "aRIh4sjrLvMj",
        "outputId": "e35a5616-b5fa-4c9a-be00-fe70bd80a6c4"
      },
      "execution_count": null,
      "outputs": [
        {
          "output_type": "stream",
          "name": "stdout",
          "text": [
            "hello1,2,3,4 my name is manishahello12hello,1,2,\n"
          ]
        }
      ]
    },
    {
      "cell_type": "code",
      "source": [
        "str3=str1+\" \"+a+\" \"+str2+\" \"+A+\" \"+x\n",
        "print(str3)"
      ],
      "metadata": {
        "colab": {
          "base_uri": "https://localhost:8080/"
        },
        "id": "7jMwsTevTcAS",
        "outputId": "1a0026d9-e943-47ac-e1e9-0a5fef6b0848"
      },
      "execution_count": null,
      "outputs": [
        {
          "output_type": "stream",
          "name": "stdout",
          "text": [
            "hello 1,2,3,4  my name is manisha hello12 hello,1,2,\n"
          ]
        }
      ]
    },
    {
      "cell_type": "markdown",
      "source": [
        "\n",
        "\n",
        "2.   Repetition: repeating a string into multiple times.\n",
        "\n"
      ],
      "metadata": {
        "id": "MoCi8D5JT9xL"
      }
    },
    {
      "cell_type": "code",
      "source": [
        "str1=\"hello\"\n",
        "a='1,2,3,4'\n",
        "str2=\"\"\" my name is manisha\"\"\"\n",
        "A=\"hello\"\"1\"\"2\"\n",
        "x=\"hello,1,2,\"\n",
        "str3=(str1+a+str2+A+x) *3\n",
        "print(str3)\n"
      ],
      "metadata": {
        "colab": {
          "base_uri": "https://localhost:8080/"
        },
        "id": "HKcd4D2bUQsQ",
        "outputId": "96f6fad1-a3cf-45b0-c9cc-482c7ffe5653"
      },
      "execution_count": null,
      "outputs": [
        {
          "output_type": "stream",
          "name": "stdout",
          "text": [
            "hello1,2,3,4 my name is manishahello12hello,1,2,hello1,2,3,4 my name is manishahello12hello,1,2,hello1,2,3,4 my name is manishahello12hello,1,2,\n"
          ]
        }
      ]
    },
    {
      "cell_type": "code",
      "source": [
        "str1=\"hello\"\n",
        "a='1,2,3,4'\n",
        "str2=\"\"\" my name is manisha\"\"\"\n",
        "A=\"hello\"\"1\"\"2\"\n",
        "x=\"hello,1,2,\"\n",
        "str3=(str1+a+str2+A+x) *3\n",
        "print(str3)\n"
      ],
      "metadata": {
        "colab": {
          "base_uri": "https://localhost:8080/"
        },
        "id": "Ea33Z2UVWMCl",
        "outputId": "063f6fea-7f98-469a-f15b-3b2a5feee36d"
      },
      "execution_count": null,
      "outputs": [
        {
          "output_type": "stream",
          "name": "stdout",
          "text": [
            "hello1,2,3,4 my name is manishahello12hello,1,2,hello1,2,3,4 my name is manishahello12hello,1,2,hello1,2,3,4 my name is manishahello12hello,1,2,\n"
          ]
        }
      ]
    },
    {
      "cell_type": "markdown",
      "source": [
        "\n",
        "\n",
        "3.   Indexing:Accessing individual characters in a string.\n",
        "\n"
      ],
      "metadata": {
        "id": "8Yjm-HMrd8qM"
      }
    },
    {
      "cell_type": "code",
      "source": [
        "a=\"corporate social responsibility can generate a positive reputation for a company leading to possibly more sales and growth in a stringAccessing individusl characters.watson provides evidence that this improves consumer sales as customer tend to support ethical green business practice thus improve profitability and encouring growth for example a yought company. a pragraph is a basic unit of organization in writing in which a group of sentence develops one main idea the number of sentence a paragraph contains is not importany it can be as short as one sentence as long as nine sentences,the most important thing is that the idea started at the begining is clearly developed.\"\n",
        "print(a[21])\n",
        "print(a[47])\n",
        "print(a[405])\n",
        "print(a[129])\n",
        "print(a[201])\n",
        "print(a[249])\n",
        "print(a[311])\n",
        "print(a[395])\n",
        "print(a[418])\n",
        "print(a[409])"
      ],
      "metadata": {
        "id": "5zTorYFLg6ua",
        "colab": {
          "base_uri": "https://localhost:8080/"
        },
        "outputId": "bccd9de2-5dae-4ff1-a31c-f66d8a972e4b"
      },
      "execution_count": null,
      "outputs": [
        {
          "output_type": "stream",
          "name": "stdout",
          "text": [
            "o\n",
            "p\n",
            " \n",
            "t\n",
            "i\n",
            "o\n",
            " \n",
            "g\n",
            "n\n",
            "w\n"
          ]
        }
      ]
    },
    {
      "cell_type": "markdown",
      "source": [
        "\n",
        "\n",
        "4.   slicing: Extracting a substring from a string.\n",
        "\n"
      ],
      "metadata": {
        "id": "rHuBr2SY8obp"
      }
    },
    {
      "cell_type": "code",
      "source": [
        "my_string=\"Hello,world! python is easy to understand.\"\n",
        "print(my_string[1:6])\n",
        "print(my_string[2:4])\n",
        "print(my_string[4:9])\n",
        "print(my_string[3:7])\n",
        "print(my_string[2:8])"
      ],
      "metadata": {
        "colab": {
          "base_uri": "https://localhost:8080/"
        },
        "id": "EiY0PL8X9Gx9",
        "outputId": "8118111c-4bff-4645-ccab-02c6de51da55"
      },
      "execution_count": null,
      "outputs": [
        {
          "output_type": "stream",
          "name": "stdout",
          "text": [
            "ello,\n",
            "ll\n",
            "o,wor\n",
            "lo,w\n",
            "llo,wo\n"
          ]
        }
      ]
    },
    {
      "cell_type": "markdown",
      "source": [
        "# python- format-string:\n",
        "\n",
        "\n",
        "\n",
        "\n",
        "1.   old style formating(% operation):\n",
        "use the % operator and placeholder.\n",
        "\n",
        "\n",
        "\n"
      ],
      "metadata": {
        "id": "iOmaFr4X-Odd"
      }
    },
    {
      "cell_type": "code",
      "source": [
        "name=\"sai reddy\"\n",
        "age=21\n",
        "formatted_string=(\"my name is %d and i am %s year old.\")%(age,name)\n",
        "print(formatted_string)"
      ],
      "metadata": {
        "colab": {
          "base_uri": "https://localhost:8080/"
        },
        "id": "PSaxvdD0-zzb",
        "outputId": "af0704da-8052-4d09-87a8-dde6ff0fff62"
      },
      "execution_count": null,
      "outputs": [
        {
          "output_type": "stream",
          "name": "stdout",
          "text": [
            "my name is 21 and i am sai reddy year old.\n"
          ]
        }
      ]
    },
    {
      "cell_type": "code",
      "source": [
        "name=\"sai reddy\"\n",
        "age=21\n",
        "a=(\"my name is %s and i am %d year old.\")%(name,age)\n",
        "print(a)"
      ],
      "metadata": {
        "colab": {
          "base_uri": "https://localhost:8080/"
        },
        "id": "Ryy3iV9U_6Ao",
        "outputId": "328f2f0b-8b1e-44a0-b60d-2a770bde0105"
      },
      "execution_count": null,
      "outputs": [
        {
          "output_type": "stream",
          "name": "stdout",
          "text": [
            "my name is sai reddy and i am 21 year old.\n"
          ]
        }
      ]
    },
    {
      "cell_type": "markdown",
      "source": [
        "\n",
        "2.   Format Method:uses the format () method with placeholder.\n",
        "\n",
        "\n"
      ],
      "metadata": {
        "id": "kznGPBG0ATCs"
      }
    },
    {
      "cell_type": "code",
      "source": [
        "name=\"manisha\"\n",
        "age=21\n",
        "Formatted_string=\"my name is {} and i am {} years old.\".format(age, name)\n",
        "print(Formatted_string)"
      ],
      "metadata": {
        "colab": {
          "base_uri": "https://localhost:8080/"
        },
        "id": "Y3K4kS9YAjT7",
        "outputId": "4825c86e-fe32-4d60-fcd3-4d6faa4f47a1"
      },
      "execution_count": null,
      "outputs": [
        {
          "output_type": "stream",
          "name": "stdout",
          "text": [
            "my name is 21 and i am manisha years old.\n"
          ]
        }
      ]
    },
    {
      "cell_type": "markdown",
      "source": [
        "\n",
        "\n",
        "3.   string Interpolation (f_string )\n",
        "uses f-string,where expression inside curly braces{} are evulated and replaced.\n",
        "\n",
        "\n"
      ],
      "metadata": {
        "id": "Y9byku4IDSKT"
      }
    },
    {
      "cell_type": "code",
      "source": [
        "name=\"vijay\"\n",
        "age=23\n",
        "location=\"hyd\"\n",
        "a=\"my name is {name} and i am {age} years old i am living in {location}.\".format(name=\"vijay\",age=\"23\",location=\"hyd\")\n",
        "print(a)"
      ],
      "metadata": {
        "colab": {
          "base_uri": "https://localhost:8080/"
        },
        "id": "P5d5qX1CDJ2w",
        "outputId": "dfcaaee8-727d-4754-b147-d929ced96e74"
      },
      "execution_count": null,
      "outputs": [
        {
          "output_type": "stream",
          "name": "stdout",
          "text": [
            "my name is vijay and i am 23 years old i am living in hyd.\n"
          ]
        }
      ]
    },
    {
      "cell_type": "markdown",
      "source": [
        "# string methods\n",
        "\n",
        "1.   len()\n",
        "the len() function is used to return an integer value which indicates the number of items in an object.\n",
        "\n"
      ],
      "metadata": {
        "id": "lTfOb8c3Faff"
      }
    },
    {
      "cell_type": "code",
      "source": [
        "a=\"hello world\"\n",
        "len=10\n",
        "print(len)"
      ],
      "metadata": {
        "colab": {
          "base_uri": "https://localhost:8080/"
        },
        "id": "QDfWlPh9GDK1",
        "outputId": "f1467102-6a73-43d2-c498-9fd33e367b22"
      },
      "execution_count": null,
      "outputs": [
        {
          "output_type": "stream",
          "name": "stdout",
          "text": [
            "10\n"
          ]
        }
      ]
    },
    {
      "cell_type": "markdown",
      "source": [
        "\n",
        "\n",
        "2.  lower:it converts captial letters into small letters.\n",
        "\n"
      ],
      "metadata": {
        "id": "qhvQSwxjb7-E"
      }
    },
    {
      "cell_type": "code",
      "source": [
        "a=\"PYTHON language\"\n",
        "print(a.lower())"
      ],
      "metadata": {
        "colab": {
          "base_uri": "https://localhost:8080/"
        },
        "id": "JJbHxDN1b56O",
        "outputId": "56a56407-2da5-4b12-9047-9fee6f85247d"
      },
      "execution_count": 2,
      "outputs": [
        {
          "output_type": "stream",
          "name": "stdout",
          "text": [
            "python language\n"
          ]
        }
      ]
    },
    {
      "cell_type": "code",
      "source": [
        "a=\"1,2,3,4\"\n",
        "print(a.lower())"
      ],
      "metadata": {
        "colab": {
          "base_uri": "https://localhost:8080/"
        },
        "id": "q9AW9qJ3cjux",
        "outputId": "f2f647a3-69a6-4d6f-ad18-7a8696ed64c8"
      },
      "execution_count": 3,
      "outputs": [
        {
          "output_type": "stream",
          "name": "stdout",
          "text": [
            "1,2,3,4\n"
          ]
        }
      ]
    },
    {
      "cell_type": "markdown",
      "source": [
        "\n",
        "\n",
        "\n",
        "\n",
        "*   Upper :it convert small letters into capital letters.\n",
        "\n",
        "\n",
        "\n"
      ],
      "metadata": {
        "id": "Mu-gmQVVctBP"
      }
    },
    {
      "cell_type": "code",
      "source": [
        "a=\"python language\"\n",
        "print(a.upper())"
      ],
      "metadata": {
        "colab": {
          "base_uri": "https://localhost:8080/"
        },
        "id": "m27aLhRlc_Io",
        "outputId": "9d955d86-cb77-4d66-d522-649baf63d182"
      },
      "execution_count": 4,
      "outputs": [
        {
          "output_type": "stream",
          "name": "stdout",
          "text": [
            "PYTHON LANGUAGE\n"
          ]
        }
      ]
    },
    {
      "cell_type": "markdown",
      "source": [
        "\n",
        "\n",
        "*   Endswith: we check weather the condition is present or not.if present the output is true.\n",
        "\n"
      ],
      "metadata": {
        "id": "lcSyXOJ5dG7n"
      }
    },
    {
      "cell_type": "code",
      "source": [
        "a=\"python language is good\"\n",
        "print(a.endswith(\"good\"))"
      ],
      "metadata": {
        "colab": {
          "base_uri": "https://localhost:8080/"
        },
        "id": "3kTbq-V3dgv5",
        "outputId": "dd65fc0b-742c-41b4-af40-c6efd5c0af25"
      },
      "execution_count": 10,
      "outputs": [
        {
          "output_type": "stream",
          "name": "stdout",
          "text": [
            "True\n"
          ]
        }
      ]
    },
    {
      "cell_type": "code",
      "source": [
        "a=\"python language is good\"\n",
        "print(a.endswith(\"de\"))"
      ],
      "metadata": {
        "colab": {
          "base_uri": "https://localhost:8080/"
        },
        "id": "mknHA_CKeRbs",
        "outputId": "5df33161-b769-4e3d-e1ba-3c5f47cfa5a0"
      },
      "execution_count": 12,
      "outputs": [
        {
          "output_type": "stream",
          "name": "stdout",
          "text": [
            "False\n"
          ]
        }
      ]
    },
    {
      "cell_type": "markdown",
      "source": [
        "\n",
        "\n",
        "*   Startswith: we check the condition is present in start or not.\n",
        "\n"
      ],
      "metadata": {
        "id": "uE0a5XuTeiPw"
      }
    },
    {
      "cell_type": "code",
      "source": [
        "a=\"python language is good\"\n",
        "print(a.startswith(\"p\"))"
      ],
      "metadata": {
        "colab": {
          "base_uri": "https://localhost:8080/"
        },
        "id": "H-_XqdDOev8y",
        "outputId": "d270df1e-d6f7-4a52-e2c5-45f28c6b3ae7"
      },
      "execution_count": 13,
      "outputs": [
        {
          "output_type": "stream",
          "name": "stdout",
          "text": [
            "True\n"
          ]
        }
      ]
    },
    {
      "cell_type": "code",
      "source": [
        "a=\"python language is good\"\n",
        "print(a.startswith(\"python\"))"
      ],
      "metadata": {
        "colab": {
          "base_uri": "https://localhost:8080/"
        },
        "id": "nSgHScFLfDTO",
        "outputId": "32d8399c-a952-4105-ab7c-36ef7c47d4e8"
      },
      "execution_count": 14,
      "outputs": [
        {
          "output_type": "stream",
          "name": "stdout",
          "text": [
            "True\n"
          ]
        }
      ]
    },
    {
      "cell_type": "markdown",
      "source": [
        "\n",
        "\n",
        "*   Replace:it is used to replace the element.\n"
      ],
      "metadata": {
        "id": "NqZF4blKfoag"
      }
    },
    {
      "cell_type": "code",
      "source": [
        "a=\"python language is good\"\n",
        "print(a.replace(\"good\",\"bad\"))"
      ],
      "metadata": {
        "colab": {
          "base_uri": "https://localhost:8080/"
        },
        "id": "Jv7aZlgYfK3M",
        "outputId": "b0be96c1-835f-4043-cd0e-bb2eedad63ee"
      },
      "execution_count": 15,
      "outputs": [
        {
          "output_type": "stream",
          "name": "stdout",
          "text": [
            "python language is bad\n"
          ]
        }
      ]
    },
    {
      "cell_type": "code",
      "source": [
        "a=\"python language is good\"\n",
        "print(a.replace(\"language\",\"programming\"))"
      ],
      "metadata": {
        "colab": {
          "base_uri": "https://localhost:8080/"
        },
        "id": "6e6W3PMHf-Qp",
        "outputId": "9d409a00-bd9a-46da-df24-7bcf819d3d8d"
      },
      "execution_count": 16,
      "outputs": [
        {
          "output_type": "stream",
          "name": "stdout",
          "text": [
            "python programming is good\n"
          ]
        }
      ]
    },
    {
      "cell_type": "markdown",
      "source": [
        "\n",
        "\n",
        "*   Find: in that the element is not present  it gives the output as -1,if present it shows the output rage valueor count value.\n",
        "\n"
      ],
      "metadata": {
        "id": "h-b0t1OYhPWC"
      }
    },
    {
      "cell_type": "code",
      "source": [
        "a=\"python language is good\"\n",
        "print(a.find(\"language\"))"
      ],
      "metadata": {
        "colab": {
          "base_uri": "https://localhost:8080/"
        },
        "id": "19yShysKgIn1",
        "outputId": "d4d8a229-2633-4fec-9d09-7b7a67594d43"
      },
      "execution_count": 21,
      "outputs": [
        {
          "output_type": "stream",
          "name": "stdout",
          "text": [
            "7\n"
          ]
        }
      ]
    },
    {
      "cell_type": "code",
      "source": [
        "a=\"python language is good\"\n",
        "print(a.find(\"bad\"))"
      ],
      "metadata": {
        "colab": {
          "base_uri": "https://localhost:8080/"
        },
        "id": "xHnF-ppIgIOq",
        "outputId": "f003cf23-71a9-44be-bdb4-102ca4862c96"
      },
      "execution_count": 22,
      "outputs": [
        {
          "output_type": "stream",
          "name": "stdout",
          "text": [
            "-1\n"
          ]
        }
      ]
    },
    {
      "cell_type": "markdown",
      "source": [
        "\n",
        "\n",
        "*   Index : in index the element is present is shows the output ,if it is not present it shows error.\n",
        "\n"
      ],
      "metadata": {
        "id": "d_56IZFAimBc"
      }
    },
    {
      "cell_type": "code",
      "source": [
        "a=\"python language is good\"\n",
        "print(a.index(\"good\"))"
      ],
      "metadata": {
        "colab": {
          "base_uri": "https://localhost:8080/"
        },
        "id": "hIQcLX2ni9D7",
        "outputId": "3565349a-70c1-4962-9c25-9c2cb7819974"
      },
      "execution_count": 23,
      "outputs": [
        {
          "output_type": "stream",
          "name": "stdout",
          "text": [
            "19\n"
          ]
        }
      ]
    },
    {
      "cell_type": "code",
      "source": [
        "a=\"python language is good\"\n",
        "print(a.index(\"bad\"))"
      ],
      "metadata": {
        "colab": {
          "base_uri": "https://localhost:8080/",
          "height": 158
        },
        "id": "eF0q0CNEjFZ8",
        "outputId": "7d1f4163-3bdf-45da-d543-77b62bdf8db4"
      },
      "execution_count": 24,
      "outputs": [
        {
          "output_type": "error",
          "ename": "ValueError",
          "evalue": "substring not found",
          "traceback": [
            "\u001b[0;31m---------------------------------------------------------------------------\u001b[0m",
            "\u001b[0;31mValueError\u001b[0m                                Traceback (most recent call last)",
            "\u001b[0;32m<ipython-input-24-af7159eb7df9>\u001b[0m in \u001b[0;36m<cell line: 2>\u001b[0;34m()\u001b[0m\n\u001b[1;32m      1\u001b[0m \u001b[0ma\u001b[0m\u001b[0;34m=\u001b[0m\u001b[0;34m\"python language is good\"\u001b[0m\u001b[0;34m\u001b[0m\u001b[0;34m\u001b[0m\u001b[0m\n\u001b[0;32m----> 2\u001b[0;31m \u001b[0mprint\u001b[0m\u001b[0;34m(\u001b[0m\u001b[0ma\u001b[0m\u001b[0;34m.\u001b[0m\u001b[0mindex\u001b[0m\u001b[0;34m(\u001b[0m\u001b[0;34m\"bad\"\u001b[0m\u001b[0;34m)\u001b[0m\u001b[0;34m)\u001b[0m\u001b[0;34m\u001b[0m\u001b[0;34m\u001b[0m\u001b[0m\n\u001b[0m",
            "\u001b[0;31mValueError\u001b[0m: substring not found"
          ]
        }
      ]
    },
    {
      "cell_type": "markdown",
      "source": [
        "\n",
        "\n",
        "*   \n",
        "Count: in that we count the particular character how many times repeat.\n"
      ],
      "metadata": {
        "id": "cLjz01bVjP8a"
      }
    },
    {
      "cell_type": "code",
      "source": [
        "a=\"python language is good\"\n",
        "print(a.count(\"g\"))"
      ],
      "metadata": {
        "colab": {
          "base_uri": "https://localhost:8080/"
        },
        "id": "1fXda4tQjiXb",
        "outputId": "9181d792-22b8-4785-a762-66694effdd16"
      },
      "execution_count": 25,
      "outputs": [
        {
          "output_type": "stream",
          "name": "stdout",
          "text": [
            "3\n"
          ]
        }
      ]
    },
    {
      "cell_type": "markdown",
      "source": [
        "\n",
        "\n",
        "*   Remove prefix: it is used to remove the front part.\n",
        "*   Remove suffix: it is used to remove the back part.\n",
        "\n"
      ],
      "metadata": {
        "id": "W0iMZTcikwUs"
      }
    },
    {
      "cell_type": "code",
      "source": [
        "a=\"python language is good\"\n",
        "print(a.removeprefix(\"python\"))"
      ],
      "metadata": {
        "colab": {
          "base_uri": "https://localhost:8080/"
        },
        "id": "z8DbmYPSlIkz",
        "outputId": "389e8256-0df2-46d4-c173-238946119c96"
      },
      "execution_count": 26,
      "outputs": [
        {
          "output_type": "stream",
          "name": "stdout",
          "text": [
            " language is good\n"
          ]
        }
      ]
    },
    {
      "cell_type": "code",
      "source": [
        "a=\"python language is good\"\n",
        "print(a.removesuffix(\"good\"))"
      ],
      "metadata": {
        "colab": {
          "base_uri": "https://localhost:8080/"
        },
        "id": "D92SDFmBlRKu",
        "outputId": "8b67dba7-422c-40b7-8929-204aee9ec5be"
      },
      "execution_count": 27,
      "outputs": [
        {
          "output_type": "stream",
          "name": "stdout",
          "text": [
            "python language is \n"
          ]
        }
      ]
    },
    {
      "cell_type": "markdown",
      "source": [
        "\n",
        "\n",
        "*  Split :it is used to convert the data into list.\n",
        "\n"
      ],
      "metadata": {
        "id": "Tt0ZiTE6lWqZ"
      }
    },
    {
      "cell_type": "code",
      "source": [
        "a=\"python language is good\"\n",
        "print(a.split())"
      ],
      "metadata": {
        "colab": {
          "base_uri": "https://localhost:8080/"
        },
        "id": "ljk1yn-glhcL",
        "outputId": "230b6ccd-1bd5-488e-cf3b-dc4b71fa4034"
      },
      "execution_count": 29,
      "outputs": [
        {
          "output_type": "stream",
          "name": "stdout",
          "text": [
            "['python', 'language', 'is', 'good']\n"
          ]
        }
      ]
    },
    {
      "cell_type": "markdown",
      "source": [
        "\n",
        "\n",
        "*   Strip:it is used to remove the space in starting and ending.\n",
        "*   L strip :it is used to remove the space in front space.\n",
        "\n",
        "*   R strip:it is used to remove the space in back space.\n",
        "\n",
        "\n"
      ],
      "metadata": {
        "id": "Prq7DqqGlsZ_"
      }
    },
    {
      "cell_type": "code",
      "source": [
        "a=\"    python language is good    \"\n",
        "print(a.strip())"
      ],
      "metadata": {
        "colab": {
          "base_uri": "https://localhost:8080/"
        },
        "id": "U9lLjp6mlrn_",
        "outputId": "61442544-c4be-4ada-a3cf-682586785b3c"
      },
      "execution_count": 30,
      "outputs": [
        {
          "output_type": "stream",
          "name": "stdout",
          "text": [
            "python language is good\n"
          ]
        }
      ]
    },
    {
      "cell_type": "code",
      "source": [
        "a=\"python language is good  \"\n",
        "print(a.rstrip())"
      ],
      "metadata": {
        "colab": {
          "base_uri": "https://localhost:8080/"
        },
        "id": "rZ1_uTDmmUE6",
        "outputId": "b1248ddf-edad-43f9-d91a-148d55f3da43"
      },
      "execution_count": 32,
      "outputs": [
        {
          "output_type": "stream",
          "name": "stdout",
          "text": [
            "python language is good\n"
          ]
        }
      ]
    },
    {
      "cell_type": "code",
      "source": [
        "a=\"    python language is good\"\n",
        "print(a.lstrip())"
      ],
      "metadata": {
        "colab": {
          "base_uri": "https://localhost:8080/"
        },
        "id": "-E5aO7qdmlxj",
        "outputId": "cae0592e-d17e-4ea6-b681-4bbcc1f69f77"
      },
      "execution_count": 33,
      "outputs": [
        {
          "output_type": "stream",
          "name": "stdout",
          "text": [
            "python language is good\n"
          ]
        }
      ]
    }
  ]
}