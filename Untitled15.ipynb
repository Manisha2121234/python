{
  "nbformat": 4,
  "nbformat_minor": 0,
  "metadata": {
    "colab": {
      "provenance": []
    },
    "kernelspec": {
      "name": "python3",
      "display_name": "Python 3"
    },
    "language_info": {
      "name": "python"
    }
  },
  "cells": [
    {
      "cell_type": "code",
      "execution_count": null,
      "metadata": {
        "colab": {
          "base_uri": "https://localhost:8080/"
        },
        "id": "C2xy8ZISpTrP",
        "outputId": "4976e32e-3693-44d2-84d6-b8fe04ac1746"
      },
      "outputs": [
        {
          "output_type": "stream",
          "name": "stdout",
          "text": [
            "enter first number21\n",
            "enter second number35\n",
            "enter third number56\n",
            "c,is largest\n"
          ]
        }
      ],
      "source": [
        "# largest number in three digits\n",
        "a=int(input(\"enter first number\"))\n",
        "b=int(input(\"enter second number\"))\n",
        "c=int(input(\"enter third number\"))\n",
        "if a>b and a>c:\n",
        "  print(\"a,is largest\")\n",
        "elif b>a and b>c:\n",
        "  print(\"b, is largest\")\n",
        "else:\n",
        "  print(\"c,is largest\")"
      ]
    },
    {
      "cell_type": "code",
      "source": [
        "#divisible by 5 and 11\n",
        "a=int(input(\"enter the number\"))\n",
        "if a%5==0 and a%11==0:\n",
        "  print(a,\"divisible by 5 and 11\")\n",
        "else:\n",
        "  print(a,\"is not divisible by 5 and 11\")"
      ],
      "metadata": {
        "colab": {
          "base_uri": "https://localhost:8080/"
        },
        "id": "H8j3hGBfryKX",
        "outputId": "7e0630e4-2e5e-4369-b5a5-947783364207"
      },
      "execution_count": null,
      "outputs": [
        {
          "output_type": "stream",
          "name": "stdout",
          "text": [
            "enter the number55\n",
            "55 divisible by 5 and 11\n"
          ]
        }
      ]
    },
    {
      "cell_type": "code",
      "source": [
        "# check the character is letter,special character or alphabet\n",
        "a=input(\"enter the character\")\n",
        "if a.isalpha():\n",
        "  print(\"a is alphabet\")\n",
        "elif not a.isalnum() and not a.isspace():\n",
        "  print(\"a is special character\")\n",
        "else:\n",
        "  pass  # Or any other action you want to take\n",
        "  print(\"a is digits\")"
      ],
      "metadata": {
        "colab": {
          "base_uri": "https://localhost:8080/"
        },
        "id": "gIADrC6iuQxo",
        "outputId": "a8a7f69b-3a03-4e72-a647-890f9a33fe40"
      },
      "execution_count": null,
      "outputs": [
        {
          "output_type": "stream",
          "name": "stdout",
          "text": [
            "enter the character#\n",
            "a is special character\n"
          ]
        }
      ]
    },
    {
      "cell_type": "code",
      "source": [
        "#triangle\n",
        "a=int(input(\"enter the first angle\"))\n",
        "b=int(input(\"enter the first angle\"))\n",
        "c=int(input(\"enter the first angle\"))\n",
        "if a+b+c==180 and a!=0 and b!=0 and c!=0:\n",
        "  print(\"triangle is valid\")\n",
        "else:\n",
        "  print(\"triangle is not valid\")"
      ],
      "metadata": {
        "colab": {
          "base_uri": "https://localhost:8080/"
        },
        "id": "Teaxdph48P9y",
        "outputId": "4dc9362e-46fd-4494-c7c5-fe73b7109b5a"
      },
      "execution_count": null,
      "outputs": [
        {
          "output_type": "stream",
          "name": "stdout",
          "text": [
            "enter the first angle34\n",
            "enter the first angle76\n",
            "enter the first angle70\n",
            "triangle is valid\n"
          ]
        }
      ]
    },
    {
      "cell_type": "code",
      "source": [
        "a=input(\"enter the alphabet\")\n",
        "if ord(a)>=97 and ord(a)<=122:\n",
        "  print(\"a,is lower case\")\n",
        "else:\n",
        "  print(\"a,is upper case\")"
      ],
      "metadata": {
        "colab": {
          "base_uri": "https://localhost:8080/"
        },
        "id": "Cergd5J6-VPO",
        "outputId": "179e1b67-334c-4545-a74d-d7236d02e505"
      },
      "execution_count": null,
      "outputs": [
        {
          "output_type": "stream",
          "name": "stdout",
          "text": [
            "enter the alphabetw\n",
            "a,is lower case\n"
          ]
        }
      ]
    },
    {
      "cell_type": "code",
      "source": [
        "a=int(input(\"enter the first angle\"))\n",
        "b=int(input(\"enter the first angle\"))\n",
        "c=int(input(\"enter the first angle\"))\n",
        "if a==b==c:\n",
        "  print(\"equilateral triangle\")\n",
        "elif a==b and b==c and c==a:\n",
        "  print(\"isosceles triangle\")\n",
        "else:\n",
        "  print(\"scalene triangle\")"
      ],
      "metadata": {
        "id": "FNfksv2NAanH",
        "colab": {
          "base_uri": "https://localhost:8080/"
        },
        "outputId": "9e473dfa-942f-4003-b9ba-363809d0588c"
      },
      "execution_count": null,
      "outputs": [
        {
          "output_type": "stream",
          "name": "stdout",
          "text": [
            "enter the first angle50\n",
            "enter the first angle50\n",
            "enter the first angle80\n",
            "scalene triangle\n"
          ]
        }
      ]
    },
    {
      "cell_type": "code",
      "source": [
        "#century year or not\n",
        "a=int(input(\"enter the year\"))\n",
        "if a%100==0 :\n",
        "  print(\"century year\")\n",
        "else:\n",
        "  print(\" not century year\")"
      ],
      "metadata": {
        "colab": {
          "base_uri": "https://localhost:8080/"
        },
        "id": "8e_BiZyMFL12",
        "outputId": "3f0fdb2d-77e6-4bda-fc3b-5ffe6129af6e"
      },
      "execution_count": null,
      "outputs": [
        {
          "output_type": "stream",
          "name": "stdout",
          "text": [
            "enter the year2004\n",
            " not century year\n"
          ]
        }
      ]
    },
    {
      "cell_type": "code",
      "source": [
        "a=int(input(\"enter the first angle\"))\n",
        "b=int(input(\"enter the first angle\"))\n",
        "c=int(input(\"enter the first angle\"))\n",
        "if a==b+c or b==a+c or c==a+b:\n",
        "  print(\"right triangle\")\n",
        "elif a>b+c or b>c+a or c>a+b:\n",
        "  print(\"obtuse triangle\")\n",
        "else:\n",
        "  print(\"actue triangle\")"
      ],
      "metadata": {
        "colab": {
          "base_uri": "https://localhost:8080/"
        },
        "id": "cTU4Amw8IfSc",
        "outputId": "3f31f1a4-5971-49f5-d3c7-16e3f079a81b"
      },
      "execution_count": null,
      "outputs": [
        {
          "output_type": "stream",
          "name": "stdout",
          "text": [
            "enter the first angle30\n",
            "enter the first angle50\n",
            "enter the first angle100\n",
            "obtuse triangle\n"
          ]
        }
      ]
    },
    {
      "cell_type": "code",
      "source": [
        "#Bmi index\n",
        "a=int(input(\"enter the weight\"))\n",
        "b=int(input(\"enter the height\"))\n",
        "bmi=a/b**2\n",
        "if bmi<18.5:\n",
        "  print(\"underweight\")\n",
        "elif bmi>18.5 and bmi<25:\n",
        "  print(\"normal\")\n",
        "elif bmi>25 and bmi<37:\n",
        "  print(\"over weight\")\n",
        "else:\n",
        "  print(\"obsued\")\n"
      ],
      "metadata": {
        "id": "slRiMF80vmN2",
        "colab": {
          "base_uri": "https://localhost:8080/"
        },
        "outputId": "669da753-e63b-4faa-c54a-3f944bb8eca6"
      },
      "execution_count": null,
      "outputs": [
        {
          "output_type": "stream",
          "name": "stdout",
          "text": [
            "enter the weight12\n",
            "enter the height5\n",
            "underweight\n"
          ]
        }
      ]
    },
    {
      "cell_type": "code",
      "source": [
        "#absolute value of a number\n",
        "a=int(input(\"enter the number\"))\n",
        "if a>0:\n",
        "  print(a)\n",
        "else:\n",
        "  a=(-1*a)\n",
        "  print(a)"
      ],
      "metadata": {
        "id": "qE-kmasjw6kv",
        "colab": {
          "base_uri": "https://localhost:8080/"
        },
        "outputId": "f8b960fb-5889-4d51-fdb9-ff1dcf52b6b2"
      },
      "execution_count": null,
      "outputs": [
        {
          "output_type": "stream",
          "name": "stdout",
          "text": [
            "enter the number-5\n",
            "5\n"
          ]
        }
      ]
    },
    {
      "cell_type": "code",
      "source": [
        "#palindrome:\n",
        "a=input(\"enter the char\")\n",
        "if a==a[::-1]:\n",
        "  print(\"palindrome\")\n",
        "else:\n",
        "  print(\"not palindrome\")"
      ],
      "metadata": {
        "colab": {
          "base_uri": "https://localhost:8080/"
        },
        "id": "92Z4wfSd89UB",
        "outputId": "642d1efe-5505-487e-ea7a-e10c96a13674"
      },
      "execution_count": null,
      "outputs": [
        {
          "output_type": "stream",
          "name": "stdout",
          "text": [
            "enter the charbook\n",
            "not palindrome\n"
          ]
        }
      ]
    },
    {
      "cell_type": "code",
      "source": [
        "#sum of two numbers equal to third number\n",
        "a=int(input(\"enter the fist number\"))\n",
        "b=int(input(\"enter the second number\"))\n",
        "c=int(input(\"enter the third number\"))\n",
        "if a+b==c or b+c==a or c+a==b:\n",
        "  print(\"sum of two numbers equal to third number\")\n",
        "else:\n",
        "  print(\"is not equal \")"
      ],
      "metadata": {
        "colab": {
          "base_uri": "https://localhost:8080/"
        },
        "id": "0KVZOezO9qE7",
        "outputId": "57d91328-aecd-4c7b-b1bb-9ae32ea73c98"
      },
      "execution_count": null,
      "outputs": [
        {
          "output_type": "stream",
          "name": "stdout",
          "text": [
            "enter the fist number21\n",
            "enter the second number23\n",
            "enter the third number50\n",
            "is not equal \n"
          ]
        }
      ]
    },
    {
      "cell_type": "code",
      "source": [
        "#threshold\n",
        "a=int(input(\"enter the number\"))\n",
        "b=int(input(\"enter the number\"))\n",
        "if a>b:\n",
        "  print(\"threshold\")\n",
        "else:\n",
        "  print(\"not threshold\")"
      ],
      "metadata": {
        "colab": {
          "base_uri": "https://localhost:8080/"
        },
        "id": "wMK43V7i_fvW",
        "outputId": "42a61030-8dfa-409c-f181-f4a2975e6631"
      },
      "execution_count": null,
      "outputs": [
        {
          "output_type": "stream",
          "name": "stdout",
          "text": [
            "enter the number112\n",
            "enter the number23\n",
            "threshold\n"
          ]
        }
      ]
    }
  ]
}